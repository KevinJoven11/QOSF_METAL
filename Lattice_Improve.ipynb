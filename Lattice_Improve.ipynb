{
 "cells": [
  {
   "cell_type": "markdown",
   "metadata": {},
   "source": [
    "## Lattice parameters for the Honney architecture.\n",
    "\n",
    "Here we consider the transmon with 4 pins.  \n",
    "The main idea is to created the generalize lattice parameters to pass the information to Qiskit Metal and have the physical implementation."
   ]
  },
  {
   "cell_type": "code",
   "execution_count": 1,
   "metadata": {},
   "outputs": [],
   "source": [
    "import numpy as np\n",
    "from lattpy import Lattice\n",
    "import lattpy as lp\n",
    "import matplotlib.pyplot as plt\n",
    "# Documentation https://lattpy.readthedocs.io/en/stable/\n",
    "\n",
    "plt.rcParams[\"figure.figsize\"] = [14, 8] # standard(7,4)"
   ]
  },
  {
   "cell_type": "code",
   "execution_count": 2,
   "metadata": {},
   "outputs": [],
   "source": [
    "# Suppor function to create the lattice.\n",
    "def general_lattice_creation(lattice_size : list = [10,6]):\n",
    "    size = 6\n",
    "    latt = lp.graphene(a=size)\n",
    "    latt.build(lattice_size)\n",
    "    return latt"
   ]
  },
  {
   "cell_type": "code",
   "execution_count": 3,
   "metadata": {},
   "outputs": [],
   "source": [
    "# Support function that create the transmon lattice.\n",
    "def transmon(size, latt, pos):\n",
    "    if latt == 0:\n",
    "        latt_pos = lp.Lattice.hexagonal()\n",
    "        latt_pos.add_atom(pos=[0.0, 0.0])\n",
    "        latt_pos.add_connections()  \n",
    "        latt_pos.build([3,2], pos=[0,0])\n",
    "    else:\n",
    "        latt_aux = latt\n",
    "        position_x = pos[0]\n",
    "        position_y = pos[1]\n",
    "        x = position_x-latt.shape[0]-1\n",
    "        y = position_y\n",
    "\n",
    "        latt_pos = lp.Lattice.hexagonal()\n",
    "        latt_pos.add_atom(pos=[0.0, 0.0])\n",
    "        latt_pos.add_connections() \n",
    "        if (pos[0]%size==0) == True:\n",
    "            latt_pos.build([5,2], pos=[x,y])\n",
    "        else:\n",
    "            latt_pos.build([5,2], pos=[x,y])\n",
    "        latt_aux.append(latt_pos, ax=0)\n",
    "        latt_pos = latt_aux\n",
    "    return latt_pos"
   ]
  },
  {
   "cell_type": "code",
   "execution_count": 224,
   "metadata": {},
   "outputs": [],
   "source": [
    "# Support function to generate the data for the transmon.\n",
    "def get_data(general_lattice, transmon_lattice):\n",
    "    A_list = np.arange(1,500,5)\n",
    "    B_list = np.arange(0,500,5)\n",
    "    C_list = np.arange(4,500,5)\n",
    "    D_list = np.arange(3,500,5)\n",
    "\n",
    "    min_dist_matrix = []\n",
    "\n",
    "    connectivity = general_lattice.neighbor_pairs(1)[0]\n",
    "\n",
    "    for iter in connectivity: # latt\n",
    "        q1 = iter[0]\n",
    "        q2 = iter[1]\n",
    "\n",
    "        q1_matrix = []\n",
    "        q2_matrix = []\n",
    "\n",
    "        for i in range(0,5): \n",
    "            q1_matrix.append(transmon_lattice.position(5*q1+i)) # latt_final\n",
    "            q2_matrix.append(transmon_lattice.position(5*q2+i)) # latt_final\n",
    "\n",
    "        min_dist = 500\n",
    "\n",
    "        for i in range(len(q1_matrix)):\n",
    "            for j in range(len(q2_matrix)):\n",
    "                dist = lp.distance(q1_matrix[i],q2_matrix[j])\n",
    "                if dist <= min_dist:\n",
    "                    min_dist = dist\n",
    "                    min = [5*q1+i, 5*q2+j]\n",
    "        \n",
    "        min_dist_matrix.append(min)\n",
    "\n",
    "    min_dist_matrix\n",
    "    pins = min_dist_matrix.copy()\n",
    "\n",
    "    for i in range(len(min_dist_matrix)):\n",
    "        for j in range(2):\n",
    "            if min_dist_matrix[i][j] in A_list:\n",
    "                pins[i][j] = 'A'\n",
    "            elif min_dist_matrix[i][j] in B_list:\n",
    "                pins[i][j] = 'B'\n",
    "            elif min_dist_matrix[i][j] in C_list:\n",
    "                pins[i][j] = 'C'\n",
    "            elif min_dist_matrix[i][j] in D_list:\n",
    "                pins[i][j] = 'D'\n",
    "\n",
    "    points = general_lattice.num_sites\n",
    "    coords = []\n",
    "\n",
    "    for i in range(0, points):\n",
    "        coords.append(general_lattice.position(i))\n",
    "\n",
    "    return coords, connectivity, pins"
   ]
  },
  {
   "cell_type": "code",
   "execution_count": 243,
   "metadata": {},
   "outputs": [
    {
     "data": {
      "image/png": "[encoded data removed]",
      "text/plain": [
       "<Figure size 1008x576 with 1 Axes>"
      ]
     },
     "metadata": {
      "needs_background": "light"
     },
     "output_type": "display_data"
    }
   ],
   "source": [
    "# Plot the information\n",
    "size_x = 15\n",
    "size_y = 12\n",
    "\n",
    "lattice_size = [size_x, size_y] # [10,6]\n",
    "general_lattice = general_lattice_creation(lattice_size)\n",
    "general_lattice.plot(show_indices=True)\n",
    "\n",
    "len_x = size_x\n",
    "len_y = size_y-4\n",
    "\n",
    "left_dots = []\n",
    "right_dots = []\n",
    "\n",
    "for j in range(0, len_y):\n",
    "\n",
    "    for i in range(0,len_x):\n",
    "        new_x = 3+i*18\n",
    "        new_y = -5+10.4*j\n",
    "        if new_x < len_x and new_y < len_y:\n",
    "            #plt.plot(3+i*18, -5+10.4*j, \"o\", color='b') # Center\n",
    "            plt.plot(3+i*18-0.5, -5+10.4*j, \"o\", color='b')\n",
    "            plt.plot(3+i*18+0.5, -5+10.4*j, \"o\", color='r')\n",
    "            left_dots.append([3+i*18-0.5, -5+10.4*j])\n",
    "            right_dots.append([3+i*18+0.5, -5+10.4*j])\n",
    "\n",
    "    for i in range(0,len_x):\n",
    "        new_x = 12+i*18\n",
    "        new_y = 10.4*j\n",
    "        if new_x < len_x and new_y < len_y:\n",
    "            #plt.plot(12+i*18, 10.4*j, \"o\", color='b') # Center\n",
    "            plt.plot(12+i*18-0.5, 10.4*j, \"o\", color='b')\n",
    "            plt.plot(12+i*18+0.5, 10.4*j, \"o\", color='r')\n",
    "            left_dots.append([12+i*18-0.5, 10.4*j])\n",
    "            right_dots.append([12+i*18+0.5, 10.4*j])\n",
    "\n",
    "# Measure_Paths\n",
    "plt.plot(-6, size_y+3, \"o\", color='g')\n",
    "plt.plot(-6, -9, \"o\", color='g')\n",
    "\n",
    "general_paths = [[-6, size_y+3],[-6, -9]]\n",
    "np.save(\"general_paths\",general_paths)\n",
    "\n",
    "# Ground\n",
    "plt.plot(size_x+3, -9, \"o\", color='g') \n",
    "plt.plot(size_x+3, size_y+3, \"o\", color='g')\n",
    "\n",
    "ground = [[size_x+3, -9], [size_x+3, size_y+3]]\n",
    "np.save(\"ground\", ground)\n",
    "\n",
    "plt.grid()\n",
    "plt.show()"
   ]
  },
  {
   "cell_type": "code",
   "execution_count": 244,
   "metadata": {},
   "outputs": [],
   "source": [
    "def define_path(coords, entire_matrix, parity):\n",
    "    min = 100\n",
    "    matrix = []\n",
    "    for i in range(0, len(entire_matrix)):\n",
    "        error = np.sqrt((coords[0]-entire_matrix[i][0])**2+(coords[1]-entire_matrix[i][1])**2)\n",
    "\n",
    "        if parity == 0:\n",
    "            if error <= min and entire_matrix[i][1]<=coords[1]+1 and entire_matrix[i][0]<=coords[0]+3 and entire_matrix[i][0]>=coords[0]-3:\n",
    "                min = error\n",
    "                matrix = entire_matrix[i]\n",
    "        else:\n",
    "            if error <= min and entire_matrix[i][1]<=coords[1]+1 and entire_matrix[i][0]<=coords[0]:\n",
    "                min = error\n",
    "                matrix = entire_matrix[i]\n",
    "\n",
    "    return matrix"
   ]
  },
  {
   "cell_type": "code",
   "execution_count": 245,
   "metadata": {},
   "outputs": [
    {
     "data": {
      "image/png": "[encoded data removed]",
      "text/plain": [
       "<Figure size 1008x576 with 1 Axes>"
      ]
     },
     "metadata": {
      "needs_background": "light"
     },
     "output_type": "display_data"
    }
   ],
   "source": [
    "# Plot the lattice with the transmon implementations\n",
    "size = 6 #8\n",
    "transmon_lattice = transmon(size, 0, 0)\n",
    "\n",
    "for i in range(general_lattice.num_sites):\n",
    "    if i != 0:\n",
    "        latt_final = transmon(size, transmon_lattice, general_lattice.position(i))\n",
    "\n",
    "transmon_lattice.plot(show_indices=False)\n",
    "\n",
    "plt.grid()\n",
    "plt.show()\n"
   ]
  },
  {
   "cell_type": "code",
   "execution_count": 246,
   "metadata": {},
   "outputs": [],
   "source": [
    "np.save(\"left_path\", left_dots)\n",
    "np.save(\"right_path\", right_dots)"
   ]
  },
  {
   "cell_type": "code",
   "execution_count": 247,
   "metadata": {},
   "outputs": [
    {
     "name": "stdout",
     "output_type": "stream",
     "text": [
      "The coordinates for the general lattice are: \n",
      " [array([0., 0.]), array([6., 0.]), array([ 0.        , 10.39230485]), array([ 6.        , 10.39230485]), array([9.        , 5.19615242]), array([15.        ,  5.19615242])]\n",
      "The connectivity between the qubits are: \n",
      " [[0 1]\n",
      " [1 4]\n",
      " [2 3]\n",
      " [3 4]\n",
      " [4 5]]\n",
      "The pins to be connected are: \n",
      " [['C', 'A'], ['C', 'B'], ['C', 'A'], ['D', 'A'], ['C', 'A']]\n",
      "Paths: \n",
      " [[2.5, -5.0], [3.5, -5.0], [2.5, 5.4], [3.5, 5.4], [11.5, 0.0], [12.5, 0.0]]\n"
     ]
    }
   ],
   "source": [
    "# Save the data for sending to Qiskit Metal.\n",
    "coords, connectivity, pins = get_data(general_lattice, transmon_lattice)\n",
    "paths = []\n",
    "\n",
    "for i in range(0, len(left_dots+right_dots)):\n",
    "    if i%2 == 0:\n",
    "        paths.append(define_path(coords[i], left_dots+right_dots, 0))\n",
    "    else:\n",
    "        paths.append(define_path(coords[i], left_dots+right_dots, 1))\n",
    "\n",
    "print(\"The coordinates for the general lattice are: \\n {}\".format(coords))\n",
    "print(\"The connectivity between the qubits are: \\n {}\".format(connectivity))\n",
    "print(\"The pins to be connected are: \\n {}\".format(pins))\n",
    "print(\"Paths: \\n {}\".format(paths))\n",
    "\n",
    "np.save(\"coords\", coords)\n",
    "np.save(\"connectivity\", connectivity)\n",
    "np.save(\"pins\", pins)\n",
    "np.save(\"paths\", paths)"
   ]
  }
 ],
 "metadata": {
  "kernelspec": {
   "display_name": "Python 3",
   "language": "python",
   "name": "python3"
  },
  "language_info": {
   "codemirror_mode": {
    "name": "ipython",
    "version": 3
   },
   "file_extension": ".py",
   "mimetype": "text/x-python",
   "name": "python",
   "nbconvert_exporter": "python",
   "pygments_lexer": "ipython3",
   "version": "3.9.5"
  },
  "orig_nbformat": 4
 },
 "nbformat": 4,
 "nbformat_minor": 2
}
